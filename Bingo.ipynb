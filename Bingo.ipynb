{
 "cells": [
  {
   "cell_type": "markdown",
   "id": "94bf4d0a",
   "metadata": {},
   "source": [
    "# BINGO!"
   ]
  },
  {
   "cell_type": "markdown",
   "id": "713e798a",
   "metadata": {},
   "source": [
    "## Requirements"
   ]
  },
  {
   "cell_type": "markdown",
   "id": "9d000b6c",
   "metadata": {},
   "source": [
    "* Create a class `Bingo` that is initialized into a specific game\n",
    "* That `bingo` game can add new players with the `add_player` method\n",
    "* The players will be added to the attribute `players`, storing their names\n",
    "* The players boards will be 2D arrays (you can use numpy but it is not necessary) consisting of numbers from 0 to 99 and of size (3X5). Its numbers must be assigned randomly.\n",
    "* The player boards (and current state) will be saved into the attribute  `player_boards` as values of `player_name` key\n",
    "* The initialized class `bingo` must have a `play_round` method that throws a random number and check whether or not the players have it \n",
    "* A player gets 10 points for every point got\n",
    "* A player gets 150 points if that player is the first one to have a row\n",
    "* A player gets 150 points if that player is the first one to have a column\n",
    "* A player gets 250 points if that player is the first one to complete the bingo. Once this happens the game is finished and you can show the ranking.\n",
    "\n",
    "\n",
    "REMEMBER:\n",
    "\n",
    "* Numbers must be random and from 0 - 99\n",
    "* Once a number has appeared it can not appear again"
   ]
  },
  {
   "cell_type": "code",
   "execution_count": 12,
   "id": "f3de4d54",
   "metadata": {
    "ExecuteTime": {
     "end_time": "2023-02-06T18:38:37.044527Z",
     "start_time": "2023-02-06T18:38:37.022527Z"
    }
   },
   "outputs": [],
   "source": [
    "import random\n",
    "from numpy.random import default_rng\n",
    "import numpy as np\n",
    "\n",
    "class Bingo():\n",
    "    def __init__(self):\n",
    "        self.player_boards = {}\n",
    "        self.player_points = {}\n",
    "        self.player_board_control = {}\n",
    "        self.number_recorded = []\n",
    "        print(\"Bingo game has started, good luck!\\nWaiting for users to join...\")\n",
    "        \n",
    "    def add_player_board(self, player):\n",
    "        rng = default_rng()\n",
    "        player_board = rng.choice(100, size = (3,5), replace=False)\n",
    "        self.player_boards[player] = player_board\n",
    "        self.player_points[player] = 0\n",
    "        self.player_board_control[player] = np.zeros((3,5))\n",
    "        self.row_ctrl = 0\n",
    "        self.column_ctrl = 0\n",
    "        print(f\"{player} has joined the game!\")\n",
    "        print(f\"Welcome {player}, here's your game board:\\n{self.player_boards[player]}\\nGood luck!\")\n",
    "    \n",
    "    def show_rankings(self):\n",
    "        for name, values in self.player_boards.items():\n",
    "            print(f\"{name} has {self.player_points[name]} points!\")\n",
    "        \n",
    "    \n",
    "    def check_bingo(self):\n",
    "        for name, values in self.player_boards.items():\n",
    "            s = 0\n",
    "            for i in range(np.array(self.player_board_control[name]).shape[0]):\n",
    "                        for j in range(np.array(self.player_board_control[name]).shape[1]):\n",
    "                            s = s + self.player_board_control[name][i][j]\n",
    "                            \n",
    "            if s == -(np.array(self.player_board_control[name]).shape[0] * np.array(self.player_board_control[name]).shape[1]):\n",
    "                self.player_points[name] += 250\n",
    "                print(\"------------------------------------\")\n",
    "                print(f\"BINGO! {name} has made it and gets 250 points. Well done!\")\n",
    "                self.show_rankings()\n",
    "                break\n",
    "                                    \n",
    "    def play_round(self):\n",
    "        if len(self.number_recorded) < 1:\n",
    "            print(\"Bingo Game Is Starting. Good Luck Everyone!\")\n",
    "        \n",
    "        while True:\n",
    "            number = random.randint(0,99)\n",
    "            if number in self.number_recorded:\n",
    "                continue\n",
    "            else:\n",
    "                break   \n",
    "        self.number_recorded.append(number)\n",
    "        print(f\"The lucky number for this round is: {number}\")\n",
    "        \n",
    "        for name, values in self.player_boards.items():\n",
    "            if number in values:\n",
    "                for i in range(np.array(self.player_boards[name]).shape[0]):\n",
    "                    for j in range(np.array(self.player_boards[name]).shape[1]):\n",
    "                        if self.player_boards[name][i][j] == number:\n",
    "                            self.player_board_control[name][i][j] = -1      \n",
    "                self.player_points[name] += 10\n",
    "                print(f\"{name} has the number {number} and gets 10 points. Congrats!\")    \n",
    "                       \n",
    "                for i in range(np.array(self.player_boards[name]).shape[0]):\n",
    "                    for j in range(np.array(self.player_boards[name]).shape[1]):\n",
    "                        if (np.array(self.player_board_control[name]).sum(axis = 0)[j] == -(np.array(self.player_boards[name]).shape[0])  \n",
    "                        and self.column_ctrl == 0):                            \n",
    "                            self.player_points[name] += 150\n",
    "                            self.column_ctrl = 1\n",
    "                            print(f\"{name} is the first one who completes the column and gets 150 points. Conguratulations!\")\n",
    "                        elif (np.array(self.player_board_control[name]).sum(axis = 1)[i] == -(np.array(self.player_boards[name]).shape[1])\n",
    "                        and self.row_ctrl == 0):\n",
    "                            self.player_points[name] += 150\n",
    "                            self.row_ctrl = 1\n",
    "                            print(f\"{name} is the first one who completes the row and gets 150 points. Conguratulations!\")\n",
    "        self.check_bingo()     "
   ]
  },
  {
   "cell_type": "code",
   "execution_count": 3,
   "id": "1bda2f39",
   "metadata": {
    "ExecuteTime": {
     "end_time": "2023-02-06T18:38:00.406554Z",
     "start_time": "2023-02-06T18:38:00.389550Z"
    }
   },
   "outputs": [
    {
     "name": "stdout",
     "output_type": "stream",
     "text": [
      "Bingo game has started, good luck!\n",
      "Waiting for users to join...\n"
     ]
    }
   ],
   "source": [
    "#Initialize the class and start the game!\n",
    "bingo = Bingo()"
   ]
  },
  {
   "cell_type": "code",
   "execution_count": 4,
   "id": "ec4672bd",
   "metadata": {
    "ExecuteTime": {
     "end_time": "2023-02-06T18:38:00.612561Z",
     "start_time": "2023-02-06T18:38:00.598551Z"
    }
   },
   "outputs": [
    {
     "name": "stdout",
     "output_type": "stream",
     "text": [
      "Cenk has joined the game!\n",
      "Welcome Cenk, here's your game board:\n",
      "[[62 50 68 82  9]\n",
      " [44 89 56 11 49]\n",
      " [92 34 61 74 52]]\n",
      "Good luck!\n"
     ]
    }
   ],
   "source": [
    "#Adding new players to the game\n",
    "bingo.add_player_board(\"Cenk\")"
   ]
  },
  {
   "cell_type": "code",
   "execution_count": 5,
   "id": "4dc81701",
   "metadata": {
    "ExecuteTime": {
     "end_time": "2023-02-06T18:38:00.786550Z",
     "start_time": "2023-02-06T18:38:00.774551Z"
    }
   },
   "outputs": [
    {
     "name": "stdout",
     "output_type": "stream",
     "text": [
      "Javi has joined the game!\n",
      "Welcome Javi, here's your game board:\n",
      "[[77 78 23 59  1]\n",
      " [54 89 52 19 87]\n",
      " [72 32 14 20 12]]\n",
      "Good luck!\n"
     ]
    }
   ],
   "source": [
    "bingo.add_player_board(\"Javi\")"
   ]
  },
  {
   "cell_type": "code",
   "execution_count": 6,
   "id": "17c0c4de",
   "metadata": {
    "ExecuteTime": {
     "end_time": "2023-02-06T18:38:01.087550Z",
     "start_time": "2023-02-06T18:38:01.070553Z"
    },
    "scrolled": true
   },
   "outputs": [
    {
     "name": "stdout",
     "output_type": "stream",
     "text": [
      "Muhammed has joined the game!\n",
      "Welcome Muhammed, here's your game board:\n",
      "[[ 4 75 34 83 20]\n",
      " [24 10 33 79 76]\n",
      " [73 31 28  7 17]]\n",
      "Good luck!\n"
     ]
    }
   ],
   "source": [
    "bingo.add_player_board(\"Muhammed\")"
   ]
  },
  {
   "cell_type": "code",
   "execution_count": 7,
   "id": "72f7a0a3",
   "metadata": {
    "ExecuteTime": {
     "end_time": "2023-02-06T18:38:01.276549Z",
     "start_time": "2023-02-06T18:38:01.269550Z"
    }
   },
   "outputs": [
    {
     "name": "stdout",
     "output_type": "stream",
     "text": [
      "Halimat has joined the game!\n",
      "Welcome Halimat, here's your game board:\n",
      "[[83 47 79 93 97]\n",
      " [15  0 57 38 78]\n",
      " [92 27 62 11 39]]\n",
      "Good luck!\n"
     ]
    }
   ],
   "source": [
    "bingo.add_player_board(\"Halimat\")"
   ]
  },
  {
   "cell_type": "code",
   "execution_count": 8,
   "id": "0351265e",
   "metadata": {
    "ExecuteTime": {
     "end_time": "2023-02-06T18:38:01.656549Z",
     "start_time": "2023-02-06T18:38:01.645550Z"
    },
    "scrolled": true
   },
   "outputs": [
    {
     "name": "stdout",
     "output_type": "stream",
     "text": [
      "Bingo Game Is Starting. Good Luck Everyone!\n",
      "The lucky number for this round is: 29\n"
     ]
    }
   ],
   "source": [
    "#Draw a number from the pot\n",
    "bingo.play_round()"
   ]
  },
  {
   "cell_type": "code",
   "execution_count": 9,
   "id": "41f1562e",
   "metadata": {
    "ExecuteTime": {
     "end_time": "2023-02-06T18:38:02.083551Z",
     "start_time": "2023-02-06T18:38:02.061551Z"
    }
   },
   "outputs": [
    {
     "data": {
      "text/plain": [
       "{'Cenk': 0, 'Javi': 0, 'Muhammed': 0, 'Halimat': 0}"
      ]
     },
     "execution_count": 9,
     "metadata": {},
     "output_type": "execute_result"
    }
   ],
   "source": [
    "bingo.player_points"
   ]
  },
  {
   "cell_type": "code",
   "execution_count": 10,
   "id": "127526f3",
   "metadata": {
    "ExecuteTime": {
     "end_time": "2023-02-06T18:38:02.338120Z",
     "start_time": "2023-02-06T18:38:02.327121Z"
    }
   },
   "outputs": [
    {
     "data": {
      "text/plain": [
       "{'Cenk': array([[0., 0., 0., 0., 0.],\n",
       "        [0., 0., 0., 0., 0.],\n",
       "        [0., 0., 0., 0., 0.]]),\n",
       " 'Javi': array([[0., 0., 0., 0., 0.],\n",
       "        [0., 0., 0., 0., 0.],\n",
       "        [0., 0., 0., 0., 0.]]),\n",
       " 'Muhammed': array([[0., 0., 0., 0., 0.],\n",
       "        [0., 0., 0., 0., 0.],\n",
       "        [0., 0., 0., 0., 0.]]),\n",
       " 'Halimat': array([[0., 0., 0., 0., 0.],\n",
       "        [0., 0., 0., 0., 0.],\n",
       "        [0., 0., 0., 0., 0.]])}"
      ]
     },
     "execution_count": 10,
     "metadata": {},
     "output_type": "execute_result"
    }
   ],
   "source": [
    "bingo.player_board_control"
   ]
  },
  {
   "cell_type": "code",
   "execution_count": 11,
   "id": "512e680b",
   "metadata": {
    "ExecuteTime": {
     "end_time": "2023-02-06T18:38:02.512121Z",
     "start_time": "2023-02-06T18:38:02.502122Z"
    },
    "scrolled": true
   },
   "outputs": [
    {
     "data": {
      "text/plain": [
       "{'Cenk': array([[62, 50, 68, 82,  9],\n",
       "        [44, 89, 56, 11, 49],\n",
       "        [92, 34, 61, 74, 52]], dtype=int64),\n",
       " 'Javi': array([[77, 78, 23, 59,  1],\n",
       "        [54, 89, 52, 19, 87],\n",
       "        [72, 32, 14, 20, 12]], dtype=int64),\n",
       " 'Muhammed': array([[ 4, 75, 34, 83, 20],\n",
       "        [24, 10, 33, 79, 76],\n",
       "        [73, 31, 28,  7, 17]], dtype=int64),\n",
       " 'Halimat': array([[83, 47, 79, 93, 97],\n",
       "        [15,  0, 57, 38, 78],\n",
       "        [92, 27, 62, 11, 39]], dtype=int64)}"
      ]
     },
     "execution_count": 11,
     "metadata": {},
     "output_type": "execute_result"
    }
   ],
   "source": [
    "bingo.player_boards"
   ]
  }
 ],
 "metadata": {
  "kernelspec": {
   "display_name": "Python 3 (ipykernel)",
   "language": "python",
   "name": "python3"
  },
  "language_info": {
   "codemirror_mode": {
    "name": "ipython",
    "version": 3
   },
   "file_extension": ".py",
   "mimetype": "text/x-python",
   "name": "python",
   "nbconvert_exporter": "python",
   "pygments_lexer": "ipython3",
   "version": "3.9.13"
  },
  "toc": {
   "base_numbering": 1,
   "nav_menu": {},
   "number_sections": true,
   "sideBar": true,
   "skip_h1_title": false,
   "title_cell": "Table of Contents",
   "title_sidebar": "Contents",
   "toc_cell": false,
   "toc_position": {},
   "toc_section_display": true,
   "toc_window_display": false
  }
 },
 "nbformat": 4,
 "nbformat_minor": 5
}
